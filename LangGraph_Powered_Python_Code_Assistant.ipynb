{
  "nbformat": 4,
  "nbformat_minor": 0,
  "metadata": {
    "colab": {
      "provenance": [],
      "authorship_tag": "ABX9TyN57R+Ya9wDtKFwKc3bDWQ3",
      "include_colab_link": true
    },
    "kernelspec": {
      "name": "python3",
      "display_name": "Python 3"
    },
    "language_info": {
      "name": "python"
    }
  },
  "cells": [
    {
      "cell_type": "markdown",
      "metadata": {
        "id": "view-in-github",
        "colab_type": "text"
      },
      "source": [
        "<a href=\"https://colab.research.google.com/github/MohamedBole/LangGraph-Powered-Python-Code-Assistant/blob/main/LangGraph_Powered_Python_Code_Assistant.ipynb\" target=\"_parent\"><img src=\"https://colab.research.google.com/assets/colab-badge.svg\" alt=\"Open In Colab\"/></a>"
      ]
    },
    {
      "cell_type": "markdown",
      "source": [
        "#install Dependance"
      ],
      "metadata": {
        "id": "2LUQWqsk2SEo"
      }
    },
    {
      "cell_type": "code",
      "execution_count": 1,
      "metadata": {
        "colab": {
          "base_uri": "https://localhost:8080/",
          "height": 0
        },
        "collapsed": true,
        "id": "NMUgu2Md2PY8",
        "outputId": "c3439f70-29aa-4853-8598-bdb37d2a6e7e"
      },
      "outputs": [
        {
          "output_type": "stream",
          "name": "stdout",
          "text": [
            "Collecting langgraph\n",
            "  Downloading langgraph-0.6.3-py3-none-any.whl.metadata (6.8 kB)\n",
            "Requirement already satisfied: langchain in /usr/local/lib/python3.11/dist-packages (0.3.27)\n",
            "Collecting langchain-google-genai\n",
            "  Downloading langchain_google_genai-2.1.9-py3-none-any.whl.metadata (7.2 kB)\n",
            "Requirement already satisfied: langchain-core>=0.1 in /usr/local/lib/python3.11/dist-packages (from langgraph) (0.3.72)\n",
            "Collecting langgraph-checkpoint<3.0.0,>=2.1.0 (from langgraph)\n",
            "  Downloading langgraph_checkpoint-2.1.1-py3-none-any.whl.metadata (4.2 kB)\n",
            "Collecting langgraph-prebuilt<0.7.0,>=0.6.0 (from langgraph)\n",
            "  Downloading langgraph_prebuilt-0.6.3-py3-none-any.whl.metadata (4.5 kB)\n",
            "Collecting langgraph-sdk<0.3.0,>=0.2.0 (from langgraph)\n",
            "  Downloading langgraph_sdk-0.2.0-py3-none-any.whl.metadata (1.5 kB)\n",
            "Requirement already satisfied: pydantic>=2.7.4 in /usr/local/lib/python3.11/dist-packages (from langgraph) (2.11.7)\n",
            "Requirement already satisfied: xxhash>=3.5.0 in /usr/local/lib/python3.11/dist-packages (from langgraph) (3.5.0)\n",
            "Requirement already satisfied: langchain-text-splitters<1.0.0,>=0.3.9 in /usr/local/lib/python3.11/dist-packages (from langchain) (0.3.9)\n",
            "Requirement already satisfied: langsmith>=0.1.17 in /usr/local/lib/python3.11/dist-packages (from langchain) (0.4.8)\n",
            "Requirement already satisfied: SQLAlchemy<3,>=1.4 in /usr/local/lib/python3.11/dist-packages (from langchain) (2.0.41)\n",
            "Requirement already satisfied: requests<3,>=2 in /usr/local/lib/python3.11/dist-packages (from langchain) (2.32.3)\n",
            "Requirement already satisfied: PyYAML>=5.3 in /usr/local/lib/python3.11/dist-packages (from langchain) (6.0.2)\n",
            "Collecting filetype<2.0.0,>=1.2.0 (from langchain-google-genai)\n",
            "  Downloading filetype-1.2.0-py2.py3-none-any.whl.metadata (6.5 kB)\n",
            "Collecting google-ai-generativelanguage<0.7.0,>=0.6.18 (from langchain-google-genai)\n",
            "  Downloading google_ai_generativelanguage-0.6.18-py3-none-any.whl.metadata (9.8 kB)\n",
            "Requirement already satisfied: google-api-core!=2.0.*,!=2.1.*,!=2.10.*,!=2.2.*,!=2.3.*,!=2.4.*,!=2.5.*,!=2.6.*,!=2.7.*,!=2.8.*,!=2.9.*,<3.0.0,>=1.34.1 in /usr/local/lib/python3.11/dist-packages (from google-api-core[grpc]!=2.0.*,!=2.1.*,!=2.10.*,!=2.2.*,!=2.3.*,!=2.4.*,!=2.5.*,!=2.6.*,!=2.7.*,!=2.8.*,!=2.9.*,<3.0.0,>=1.34.1->google-ai-generativelanguage<0.7.0,>=0.6.18->langchain-google-genai) (2.25.1)\n",
            "Requirement already satisfied: google-auth!=2.24.0,!=2.25.0,<3.0.0,>=2.14.1 in /usr/local/lib/python3.11/dist-packages (from google-ai-generativelanguage<0.7.0,>=0.6.18->langchain-google-genai) (2.38.0)\n",
            "Requirement already satisfied: proto-plus<2.0.0,>=1.22.3 in /usr/local/lib/python3.11/dist-packages (from google-ai-generativelanguage<0.7.0,>=0.6.18->langchain-google-genai) (1.26.1)\n",
            "Requirement already satisfied: protobuf!=4.21.0,!=4.21.1,!=4.21.2,!=4.21.3,!=4.21.4,!=4.21.5,<7.0.0,>=3.20.2 in /usr/local/lib/python3.11/dist-packages (from google-ai-generativelanguage<0.7.0,>=0.6.18->langchain-google-genai) (5.29.5)\n",
            "Requirement already satisfied: tenacity!=8.4.0,<10.0.0,>=8.1.0 in /usr/local/lib/python3.11/dist-packages (from langchain-core>=0.1->langgraph) (8.5.0)\n",
            "Requirement already satisfied: jsonpatch<2.0,>=1.33 in /usr/local/lib/python3.11/dist-packages (from langchain-core>=0.1->langgraph) (1.33)\n",
            "Requirement already satisfied: typing-extensions>=4.7 in /usr/local/lib/python3.11/dist-packages (from langchain-core>=0.1->langgraph) (4.14.1)\n",
            "Requirement already satisfied: packaging>=23.2 in /usr/local/lib/python3.11/dist-packages (from langchain-core>=0.1->langgraph) (25.0)\n",
            "Collecting ormsgpack>=1.10.0 (from langgraph-checkpoint<3.0.0,>=2.1.0->langgraph)\n",
            "  Downloading ormsgpack-1.10.0-cp311-cp311-manylinux_2_17_x86_64.manylinux2014_x86_64.whl.metadata (43 kB)\n",
            "\u001b[2K     \u001b[90m━━━━━━━━━━━━━━━━━━━━━━━━━━━━━━━━━━━━━━━━\u001b[0m \u001b[32m43.7/43.7 kB\u001b[0m \u001b[31m2.3 MB/s\u001b[0m eta \u001b[36m0:00:00\u001b[0m\n",
            "\u001b[?25hRequirement already satisfied: httpx>=0.25.2 in /usr/local/lib/python3.11/dist-packages (from langgraph-sdk<0.3.0,>=0.2.0->langgraph) (0.28.1)\n",
            "Requirement already satisfied: orjson>=3.10.1 in /usr/local/lib/python3.11/dist-packages (from langgraph-sdk<0.3.0,>=0.2.0->langgraph) (3.11.1)\n",
            "Requirement already satisfied: requests-toolbelt<2.0.0,>=1.0.0 in /usr/local/lib/python3.11/dist-packages (from langsmith>=0.1.17->langchain) (1.0.0)\n",
            "Requirement already satisfied: zstandard<0.24.0,>=0.23.0 in /usr/local/lib/python3.11/dist-packages (from langsmith>=0.1.17->langchain) (0.23.0)\n",
            "Requirement already satisfied: annotated-types>=0.6.0 in /usr/local/lib/python3.11/dist-packages (from pydantic>=2.7.4->langgraph) (0.7.0)\n",
            "Requirement already satisfied: pydantic-core==2.33.2 in /usr/local/lib/python3.11/dist-packages (from pydantic>=2.7.4->langgraph) (2.33.2)\n",
            "Requirement already satisfied: typing-inspection>=0.4.0 in /usr/local/lib/python3.11/dist-packages (from pydantic>=2.7.4->langgraph) (0.4.1)\n",
            "Requirement already satisfied: charset-normalizer<4,>=2 in /usr/local/lib/python3.11/dist-packages (from requests<3,>=2->langchain) (3.4.2)\n",
            "Requirement already satisfied: idna<4,>=2.5 in /usr/local/lib/python3.11/dist-packages (from requests<3,>=2->langchain) (3.10)\n",
            "Requirement already satisfied: urllib3<3,>=1.21.1 in /usr/local/lib/python3.11/dist-packages (from requests<3,>=2->langchain) (2.5.0)\n",
            "Requirement already satisfied: certifi>=2017.4.17 in /usr/local/lib/python3.11/dist-packages (from requests<3,>=2->langchain) (2025.7.14)\n",
            "Requirement already satisfied: greenlet>=1 in /usr/local/lib/python3.11/dist-packages (from SQLAlchemy<3,>=1.4->langchain) (3.2.3)\n",
            "Requirement already satisfied: googleapis-common-protos<2.0.0,>=1.56.2 in /usr/local/lib/python3.11/dist-packages (from google-api-core!=2.0.*,!=2.1.*,!=2.10.*,!=2.2.*,!=2.3.*,!=2.4.*,!=2.5.*,!=2.6.*,!=2.7.*,!=2.8.*,!=2.9.*,<3.0.0,>=1.34.1->google-api-core[grpc]!=2.0.*,!=2.1.*,!=2.10.*,!=2.2.*,!=2.3.*,!=2.4.*,!=2.5.*,!=2.6.*,!=2.7.*,!=2.8.*,!=2.9.*,<3.0.0,>=1.34.1->google-ai-generativelanguage<0.7.0,>=0.6.18->langchain-google-genai) (1.70.0)\n",
            "Requirement already satisfied: grpcio<2.0.0,>=1.33.2 in /usr/local/lib/python3.11/dist-packages (from google-api-core[grpc]!=2.0.*,!=2.1.*,!=2.10.*,!=2.2.*,!=2.3.*,!=2.4.*,!=2.5.*,!=2.6.*,!=2.7.*,!=2.8.*,!=2.9.*,<3.0.0,>=1.34.1->google-ai-generativelanguage<0.7.0,>=0.6.18->langchain-google-genai) (1.74.0)\n",
            "Requirement already satisfied: grpcio-status<2.0.0,>=1.33.2 in /usr/local/lib/python3.11/dist-packages (from google-api-core[grpc]!=2.0.*,!=2.1.*,!=2.10.*,!=2.2.*,!=2.3.*,!=2.4.*,!=2.5.*,!=2.6.*,!=2.7.*,!=2.8.*,!=2.9.*,<3.0.0,>=1.34.1->google-ai-generativelanguage<0.7.0,>=0.6.18->langchain-google-genai) (1.71.2)\n",
            "Requirement already satisfied: cachetools<6.0,>=2.0.0 in /usr/local/lib/python3.11/dist-packages (from google-auth!=2.24.0,!=2.25.0,<3.0.0,>=2.14.1->google-ai-generativelanguage<0.7.0,>=0.6.18->langchain-google-genai) (5.5.2)\n",
            "Requirement already satisfied: pyasn1-modules>=0.2.1 in /usr/local/lib/python3.11/dist-packages (from google-auth!=2.24.0,!=2.25.0,<3.0.0,>=2.14.1->google-ai-generativelanguage<0.7.0,>=0.6.18->langchain-google-genai) (0.4.2)\n",
            "Requirement already satisfied: rsa<5,>=3.1.4 in /usr/local/lib/python3.11/dist-packages (from google-auth!=2.24.0,!=2.25.0,<3.0.0,>=2.14.1->google-ai-generativelanguage<0.7.0,>=0.6.18->langchain-google-genai) (4.9.1)\n",
            "Requirement already satisfied: anyio in /usr/local/lib/python3.11/dist-packages (from httpx>=0.25.2->langgraph-sdk<0.3.0,>=0.2.0->langgraph) (4.9.0)\n",
            "Requirement already satisfied: httpcore==1.* in /usr/local/lib/python3.11/dist-packages (from httpx>=0.25.2->langgraph-sdk<0.3.0,>=0.2.0->langgraph) (1.0.9)\n",
            "Requirement already satisfied: h11>=0.16 in /usr/local/lib/python3.11/dist-packages (from httpcore==1.*->httpx>=0.25.2->langgraph-sdk<0.3.0,>=0.2.0->langgraph) (0.16.0)\n",
            "Requirement already satisfied: jsonpointer>=1.9 in /usr/local/lib/python3.11/dist-packages (from jsonpatch<2.0,>=1.33->langchain-core>=0.1->langgraph) (3.0.0)\n",
            "Requirement already satisfied: pyasn1<0.7.0,>=0.6.1 in /usr/local/lib/python3.11/dist-packages (from pyasn1-modules>=0.2.1->google-auth!=2.24.0,!=2.25.0,<3.0.0,>=2.14.1->google-ai-generativelanguage<0.7.0,>=0.6.18->langchain-google-genai) (0.6.1)\n",
            "Requirement already satisfied: sniffio>=1.1 in /usr/local/lib/python3.11/dist-packages (from anyio->httpx>=0.25.2->langgraph-sdk<0.3.0,>=0.2.0->langgraph) (1.3.1)\n",
            "Downloading langgraph-0.6.3-py3-none-any.whl (152 kB)\n",
            "\u001b[2K   \u001b[90m━━━━━━━━━━━━━━━━━━━━━━━━━━━━━━━━━━━━━━━━\u001b[0m \u001b[32m152.5/152.5 kB\u001b[0m \u001b[31m7.9 MB/s\u001b[0m eta \u001b[36m0:00:00\u001b[0m\n",
            "\u001b[?25hDownloading langchain_google_genai-2.1.9-py3-none-any.whl (49 kB)\n",
            "\u001b[2K   \u001b[90m━━━━━━━━━━━━━━━━━━━━━━━━━━━━━━━━━━━━━━━━\u001b[0m \u001b[32m49.4/49.4 kB\u001b[0m \u001b[31m3.2 MB/s\u001b[0m eta \u001b[36m0:00:00\u001b[0m\n",
            "\u001b[?25hDownloading filetype-1.2.0-py2.py3-none-any.whl (19 kB)\n",
            "Downloading google_ai_generativelanguage-0.6.18-py3-none-any.whl (1.4 MB)\n",
            "\u001b[2K   \u001b[90m━━━━━━━━━━━━━━━━━━━━━━━━━━━━━━━━━━━━━━━━\u001b[0m \u001b[32m1.4/1.4 MB\u001b[0m \u001b[31m37.5 MB/s\u001b[0m eta \u001b[36m0:00:00\u001b[0m\n",
            "\u001b[?25hDownloading langgraph_checkpoint-2.1.1-py3-none-any.whl (43 kB)\n",
            "\u001b[2K   \u001b[90m━━━━━━━━━━━━━━━━━━━━━━━━━━━━━━━━━━━━━━━━\u001b[0m \u001b[32m43.9/43.9 kB\u001b[0m \u001b[31m1.9 MB/s\u001b[0m eta \u001b[36m0:00:00\u001b[0m\n",
            "\u001b[?25hDownloading langgraph_prebuilt-0.6.3-py3-none-any.whl (28 kB)\n",
            "Downloading langgraph_sdk-0.2.0-py3-none-any.whl (50 kB)\n",
            "\u001b[2K   \u001b[90m━━━━━━━━━━━━━━━━━━━━━━━━━━━━━━━━━━━━━━━━\u001b[0m \u001b[32m50.6/50.6 kB\u001b[0m \u001b[31m3.2 MB/s\u001b[0m eta \u001b[36m0:00:00\u001b[0m\n",
            "\u001b[?25hDownloading ormsgpack-1.10.0-cp311-cp311-manylinux_2_17_x86_64.manylinux2014_x86_64.whl (216 kB)\n",
            "\u001b[2K   \u001b[90m━━━━━━━━━━━━━━━━━━━━━━━━━━━━━━━━━━━━━━━━\u001b[0m \u001b[32m216.5/216.5 kB\u001b[0m \u001b[31m13.0 MB/s\u001b[0m eta \u001b[36m0:00:00\u001b[0m\n",
            "\u001b[?25hInstalling collected packages: filetype, ormsgpack, langgraph-sdk, langgraph-checkpoint, google-ai-generativelanguage, langgraph-prebuilt, langchain-google-genai, langgraph\n",
            "  Attempting uninstall: google-ai-generativelanguage\n",
            "    Found existing installation: google-ai-generativelanguage 0.6.15\n",
            "    Uninstalling google-ai-generativelanguage-0.6.15:\n",
            "      Successfully uninstalled google-ai-generativelanguage-0.6.15\n",
            "\u001b[31mERROR: pip's dependency resolver does not currently take into account all the packages that are installed. This behaviour is the source of the following dependency conflicts.\n",
            "google-generativeai 0.8.5 requires google-ai-generativelanguage==0.6.15, but you have google-ai-generativelanguage 0.6.18 which is incompatible.\u001b[0m\u001b[31m\n",
            "\u001b[0mSuccessfully installed filetype-1.2.0 google-ai-generativelanguage-0.6.18 langchain-google-genai-2.1.9 langgraph-0.6.3 langgraph-checkpoint-2.1.1 langgraph-prebuilt-0.6.3 langgraph-sdk-0.2.0 ormsgpack-1.10.0\n"
          ]
        },
        {
          "output_type": "display_data",
          "data": {
            "application/vnd.colab-display-data+json": {
              "pip_warning": {
                "packages": [
                  "google"
                ]
              },
              "id": "4cd2c6f659684f9faf190772bc549635"
            }
          },
          "metadata": {}
        }
      ],
      "source": [
        "!pip install langgraph langchain langchain-google-genai"
      ]
    },
    {
      "cell_type": "code",
      "source": [
        "import os\n",
        "from typing import TypedDict, List, Union\n",
        "from langchain_core.messages import HumanMessage, AIMessage\n",
        "from langgraph.graph import StateGraph, START, END\n",
        "from google.colab import userdata\n",
        "from langchain_google_genai import ChatGoogleGenerativeAI\n",
        "import langchain\n",
        "import langchain_google_genai\n",
        "from langchain_core.messages import BaseMessage # The foundational class for all message types in LangGraph\n",
        "from langchain_core.messages import SystemMessage # Message for providing instructions to the LLM\n",
        "from langgraph.graph.message import add_messages"
      ],
      "metadata": {
        "id": "KKNpd_F120s9"
      },
      "execution_count": 2,
      "outputs": []
    },
    {
      "cell_type": "code",
      "source": [
        "# 1. Set the API key as an environment variable\n",
        "os.environ['GOOGLE_API_KEY'] = userdata.get('GOOGLE_API_KEY')\n",
        "\n",
        "# 2. Instantiate the LLM without explicitly passing the key\n",
        "llm = ChatGoogleGenerativeAI(\n",
        "    model=\"gemini-1.5-flash\",\n",
        "    temperature=0\n",
        ")"
      ],
      "metadata": {
        "id": "QkdtAlFi4ZUv"
      },
      "execution_count": 3,
      "outputs": []
    },
    {
      "cell_type": "markdown",
      "source": [
        "# State Schema"
      ],
      "metadata": {
        "id": "ueB2cs_v3elM"
      }
    },
    {
      "cell_type": "code",
      "source": [
        "class AgentState(TypedDict):\n",
        "    messages : List[Union[HumanMessage, AIMessage]]\n",
        "    task : str"
      ],
      "metadata": {
        "id": "uY_NpxbK3IrA"
      },
      "execution_count": 47,
      "outputs": []
    },
    {
      "cell_type": "markdown",
      "source": [
        "#Explain Node"
      ],
      "metadata": {
        "id": "o8LqXEPIHx8n"
      }
    },
    {
      "cell_type": "code",
      "source": [
        "def explain(state:AgentState) -> AgentState:\n",
        "    system_prompt = SystemMessage(content=\n",
        "        \"You are my AI Python code  assistant, please explian my code provided to you.\"\n",
        "    )\n",
        "    response = llm.invoke([system_prompt] + state[\"messages\"])\n",
        "    print(f\"\\nAI Explaination:: {response.content}\")\n",
        "    return {\"messages\": [response]}"
      ],
      "metadata": {
        "id": "l5NXCnZAH0aP"
      },
      "execution_count": 13,
      "outputs": []
    },
    {
      "cell_type": "markdown",
      "source": [
        "#Generate Node"
      ],
      "metadata": {
        "id": "l2n4q6h5K1ZV"
      }
    },
    {
      "cell_type": "code",
      "source": [
        "def generate(state:AgentState) -> AgentState:\n",
        "    system_prompt = SystemMessage(content=\n",
        "        \"You are my AI Python code  assistant, please generate this code for me.\"\n",
        "    )\n",
        "    response = llm.invoke([system_prompt] + state[\"messages\"])\n",
        "    print(f\"\\nAI Generating Code:: {response.content}\")\n",
        "    return {\"messages\": [response]}"
      ],
      "metadata": {
        "id": "0SFI3kvuLHBy"
      },
      "execution_count": 14,
      "outputs": []
    },
    {
      "cell_type": "markdown",
      "source": [
        "#Conditional Node"
      ],
      "metadata": {
        "id": "3vGjP2ZyL-Rd"
      }
    },
    {
      "cell_type": "code",
      "source": [
        "# Intent Classification Node\n",
        "def classify_intent(state: AgentState) -> AgentState:\n",
        "    user_input = state[\"messages\"][-1].content if state[\"messages\"] else \"\"\n",
        "\n",
        "    # Create a prompt for the LLM to classify intent\n",
        "    prompt = f\"\"\"\n",
        "    Classify the intent of the following user input into one of these categories: 'explain' or 'generate'.\n",
        "\n",
        "    Guidelines:\n",
        "    - If the user asks to explain, understand, describe, or analyze code, return 'explain'\n",
        "    - If the user asks to write, create, build, or generate code, return 'generate'\n",
        "\n",
        "    User input: {user_input}\n",
        "    Return only the intent as a single word (either 'explain' or 'generate').\n",
        "    \"\"\"\n",
        "\n",
        "    try:\n",
        "        response = llm.invoke(prompt)\n",
        "        intent = response.content.strip().lower()\n",
        "        if intent not in [\"explain\", \"generate\"]:\n",
        "            intent = \"explain\"  # Default to explain if the response is invalid\n",
        "    except Exception as e:\n",
        "        print(f\"Error in intent classification: {e}\")\n",
        "        intent = \"explain\"  # Fallback to explain on error\n",
        "\n",
        "    print(f\"Classified intent: {intent}\")\n",
        "    return {\"task\": intent}"
      ],
      "metadata": {
        "id": "NmcPcP2pMC8X"
      },
      "execution_count": 49,
      "outputs": []
    },
    {
      "cell_type": "code",
      "source": [
        "# Router function for conditional edges\n",
        "def router(state: AgentState) -> str:\n",
        "    \"\"\"Route to the appropriate node based on task.\"\"\"\n",
        "    return state[\"task\"]"
      ],
      "metadata": {
        "id": "LxO_PAYPa9u_"
      },
      "execution_count": 48,
      "outputs": []
    },
    {
      "cell_type": "markdown",
      "source": [
        "#Graph"
      ],
      "metadata": {
        "id": "-DmSmBoPHZ0s"
      }
    },
    {
      "cell_type": "code",
      "source": [
        "# Create the graph\n",
        "graph = StateGraph(AgentState)\n",
        "\n",
        "# Add nodes\n",
        "graph.add_node(\"classify_intent\", classify_intent)\n",
        "graph.add_node(\"explain\", explain)\n",
        "graph.add_node(\"generate\", generate)\n",
        "\n",
        "# Define edges\n",
        "graph.add_edge(START, \"classify_intent\")\n",
        "graph.add_conditional_edges(\n",
        "    \"classify_intent\",\n",
        "    router,\n",
        "    {\n",
        "        \"explain\": \"explain\",\n",
        "        \"generate\": \"generate\",\n",
        "    }\n",
        ")\n",
        "graph.add_edge(\"explain\", END)\n",
        "graph.add_edge(\"generate\", END)\n",
        "\n",
        "# Compile the graph\n",
        "agent = graph.compile()"
      ],
      "metadata": {
        "id": "prgIj3GzHUbY"
      },
      "execution_count": 50,
      "outputs": []
    },
    {
      "cell_type": "code",
      "source": [
        "from IPython.display import Image, display\n",
        "display(Image(agent.get_graph().draw_mermaid_png()))"
      ],
      "metadata": {
        "colab": {
          "base_uri": "https://localhost:8080/",
          "height": 350
        },
        "id": "dZoqlnL6GT2p",
        "outputId": "e1ec0298-1cdf-41d7-ab2b-b1502e03e59b"
      },
      "execution_count": 51,
      "outputs": [
        {
          "output_type": "display_data",
          "data": {
            "image/png": "[encoded data removed]",
            "text/plain": [
              "<IPython.core.display.Image object>"
            ]
          },
          "metadata": {}
        }
      ]
    },
    {
      "cell_type": "markdown",
      "source": [
        "#Chat"
      ],
      "metadata": {
        "id": "YNpA5v5lvyfS"
      }
    },
    {
      "cell_type": "code",
      "source": [
        "# Chat Interface with Memory\n",
        "class ChatSession:\n",
        "    def __init__(self, agent):\n",
        "        self.agent = agent\n",
        "        self.conversation_history = []\n",
        "\n",
        "    def add_to_history(self, message):\n",
        "        \"\"\"Add message to conversation history\"\"\"\n",
        "        self.conversation_history.append(message)\n",
        "        # Keep only last 10 messages to avoid token limits\n",
        "        if len(self.conversation_history) > 10:\n",
        "            self.conversation_history = self.conversation_history[-10:]\n",
        "\n",
        "    def get_response(self, user_input):\n",
        "        \"\"\"Get response from the agent with conversation context\"\"\"\n",
        "        # Create current message\n",
        "        current_message = HumanMessage(content=user_input)\n",
        "\n",
        "        # Combine history with current message\n",
        "        all_messages = self.conversation_history + [current_message]\n",
        "\n",
        "        # Get response from agent\n",
        "        response = self.agent.invoke({\n",
        "            \"messages\": all_messages,\n",
        "            \"task\": \"\"\n",
        "        })\n",
        "\n",
        "        # Add both user input and AI response to history\n",
        "        self.add_to_history(current_message)\n",
        "        if response.get(\"messages\"):\n",
        "            self.add_to_history(response[\"messages\"][-1])\n",
        "\n",
        "        return response"
      ],
      "metadata": {
        "id": "iOnzzIWlv1Uk"
      },
      "execution_count": 54,
      "outputs": []
    },
    {
      "cell_type": "code",
      "source": [
        "def start_chat():\n",
        "    \"\"\"Start the interactive chat session\"\"\"\n",
        "    print(\"🤖 Python Code Assistant\")\n",
        "    print(\"=\" * 50)\n",
        "    print(\"Hello! I'm your Python code assistant.\")\n",
        "    print(\"I can help you:\")\n",
        "    print(\"  • Explain Python code\")\n",
        "    print(\"  • Generate Python code\")\n",
        "    print(\"  • Answer programming questions\")\n",
        "    print(\"\\nType 'exit' to quit the chat.\")\n",
        "    print(\"=\" * 50)\n",
        "\n",
        "    # Initialize chat session\n",
        "    chat_session = ChatSession(agent)\n",
        "\n",
        "    while True:\n",
        "        try:\n",
        "            # Get user input\n",
        "            user_input = input(\"\\n👤 You: \").strip()\n",
        "\n",
        "            # Check for exit command\n",
        "            if user_input.lower() in ['exit', 'quit', 'bye', 'goodbye']:\n",
        "                print(\"\\n🤖 Assistant: Goodbye! Happy coding! 👋\")\n",
        "                break\n",
        "\n",
        "            # Skip empty inputs\n",
        "            if not user_input:\n",
        "                print(\"Please enter a message or type 'exit' to quit.\")\n",
        "                continue\n",
        "\n",
        "            # Get response from agent\n",
        "            print(\"\\n🤖 Assistant: \", end=\"\")\n",
        "            response = chat_session.get_response(user_input)\n",
        "\n",
        "            # The response is already printed by the node functions\n",
        "            # Just add a separator for better readability\n",
        "            print(\"\\n\" + \"-\" * 50)\n",
        "\n",
        "        except KeyboardInterrupt:\n",
        "            print(\"\\n\\n🤖 Assistant: Chat interrupted. Goodbye! 👋\")\n",
        "            break\n",
        "        except Exception as e:\n",
        "            print(f\"\\n❌ Error: {e}\")\n",
        "            print(\"Please try again or type 'exit' to quit.\")"
      ],
      "metadata": {
        "id": "NdJbPlbXwCHv"
      },
      "execution_count": 57,
      "outputs": []
    },
    {
      "cell_type": "code",
      "source": [],
      "metadata": {
        "id": "lT0iX8l9wZ3_"
      },
      "execution_count": null,
      "outputs": []
    },
    {
      "cell_type": "markdown",
      "source": [
        "#Run Agent"
      ],
      "metadata": {
        "id": "eVp31zjPHUyr"
      }
    },
    {
      "cell_type": "code",
      "source": [
        "# Main execution\n",
        "if __name__ == \"__main__\":\n",
        "    # Uncomment one of these options:\n",
        "\n",
        "    # Option 1: Start interactive chat\n",
        "    start_chat()"
      ],
      "metadata": {
        "colab": {
          "base_uri": "https://localhost:8080/"
        },
        "id": "Mkc6KdBXlhAS",
        "outputId": "09000db1-45a8-4bec-9e15-6891de4ccee5"
      },
      "execution_count": 58,
      "outputs": [
        {
          "output_type": "stream",
          "name": "stdout",
          "text": [
            "🤖 Python Code Assistant\n",
            "==================================================\n",
            "Hello! I'm your Python code assistant.\n",
            "I can help you:\n",
            "  • Explain Python code\n",
            "  • Generate Python code\n",
            "  • Answer programming questions\n",
            "\n",
            "Type 'exit' to quit the chat.\n",
            "==================================================\n",
            "\n",
            "👤 You: hello, can you explain this code for me 'display(Image(agent.get_graph().draw_mermaid_png()))'\n",
            "\n",
            "🤖 Assistant: Classified intent: explain\n",
            "\n",
            "AI Explaination:: That code snippet displays a Mermaid diagram generated from a graph within a Python environment that likely uses Jupyter Notebooks or a similar interactive computing environment. Let's break it down:\n",
            "\n",
            "* **`agent.get_graph()`:** This part assumes you have an object named `agent` which has a method called `get_graph()`. This method returns a graph object.  The nature of this graph object depends on the library or framework you're using. It's likely a graph representation used in a specific domain, such as a knowledge graph, a dependency graph, or a workflow graph.\n",
            "\n",
            "* **`.draw_mermaid_png()`:** This is a method called on the graph object.  It suggests that the graph object has a capability to render itself as a PNG image using the Mermaid syntax. Mermaid is a popular markdown-like language for creating diagrams and flowcharts.  This method likely takes the graph's structure and translates it into Mermaid code, then renders that code into a PNG image.\n",
            "\n",
            "* **`Image(...)`:** This is a function (likely from a library like `IPython.display`) that takes an image file path or binary data and creates an `Image` object suitable for display within a Jupyter Notebook or similar interactive environment.  It's taking the PNG data generated by `.draw_mermaid_png()` and wrapping it into a displayable object.\n",
            "\n",
            "* **`display(...)`:** This is a function (again, likely from `IPython.display`) that renders the `Image` object within the notebook.  It shows the generated PNG image of the Mermaid diagram in the output cell.\n",
            "\n",
            "\n",
            "**In summary:** The code fetches a graph from an `agent` object, converts it into a Mermaid diagram, renders that diagram as a PNG image, and then displays that image in the output.  The entire process relies on having a suitable library installed that provides the `Image` and `display` functions, and an `agent` object with the appropriate methods for graph manipulation and rendering.  The specific library used will determine the exact behavior and capabilities.  Libraries like `ipython`, `graphviz`, and potentially custom libraries are possibilities.\n",
            "\n",
            "--------------------------------------------------\n",
            "\n",
            "👤 You: Can you generate a function to calculate fibonacci numbers?\n",
            "\n",
            "🤖 Assistant: Classified intent: generate\n",
            "\n",
            "AI Generating Code:: Here are a few functions to calculate Fibonacci numbers, each with different approaches and trade-offs:\n",
            "\n",
            "**1. Recursive Approach (Simple, but inefficient for large numbers):**\n",
            "\n",
            "```python\n",
            "def fibonacci_recursive(n):\n",
            "  \"\"\"\n",
            "  Calculates the nth Fibonacci number recursively.\n",
            "\n",
            "  Args:\n",
            "    n: The index of the desired Fibonacci number (starting from 0).\n",
            "\n",
            "  Returns:\n",
            "    The nth Fibonacci number.\n",
            "  \"\"\"\n",
            "  if n <= 1:\n",
            "    return n\n",
            "  else:\n",
            "    return fibonacci_recursive(n-1) + fibonacci_recursive(n-2)\n",
            "\n",
            "```\n",
            "\n",
            "This is the most straightforward implementation, directly mirroring the mathematical definition. However, it's extremely inefficient for larger values of `n` due to repeated calculations.\n",
            "\n",
            "\n",
            "**2. Iterative Approach (Efficient):**\n",
            "\n",
            "```python\n",
            "def fibonacci_iterative(n):\n",
            "  \"\"\"\n",
            "  Calculates the nth Fibonacci number iteratively.\n",
            "\n",
            "  Args:\n",
            "    n: The index of the desired Fibonacci number (starting from 0).\n",
            "\n",
            "  Returns:\n",
            "    The nth Fibonacci number.\n",
            "  \"\"\"\n",
            "  a, b = 0, 1\n",
            "  for _ in range(n):\n",
            "    a, b = b, a + b\n",
            "  return a\n",
            "\n",
            "```\n",
            "\n",
            "This iterative approach is much more efficient, avoiding redundant calculations.  It's generally the preferred method for calculating Fibonacci numbers.\n",
            "\n",
            "\n",
            "**3. Dynamic Programming Approach (Efficient, avoids recalculation):**\n",
            "\n",
            "```python\n",
            "def fibonacci_dynamic(n):\n",
            "  \"\"\"\n",
            "  Calculates the nth Fibonacci number using dynamic programming.\n",
            "\n",
            "  Args:\n",
            "    n: The index of the desired Fibonacci number (starting from 0).\n",
            "\n",
            "  Returns:\n",
            "    The nth Fibonacci number.\n",
            "  \"\"\"\n",
            "  fib_numbers = [0, 1]\n",
            "  if n <= 1:\n",
            "    return fib_numbers[n]\n",
            "  else:\n",
            "    for i in range(2, n + 1):\n",
            "      next_fib = fib_numbers[i - 1] + fib_numbers[i - 2]\n",
            "      fib_numbers.append(next_fib)\n",
            "    return fib_numbers[n]\n",
            "\n",
            "```\n",
            "\n",
            "Dynamic programming stores previously calculated Fibonacci numbers to avoid recalculating them.  This is also efficient, especially if you need multiple Fibonacci numbers.\n",
            "\n",
            "\n",
            "**4. Using a Generator (Memory Efficient for large sequences):**\n",
            "\n",
            "```python\n",
            "def fibonacci_generator(n):\n",
            "  \"\"\"\n",
            "  Generates Fibonacci numbers up to n using a generator.\n",
            "\n",
            "  Args:\n",
            "    n: The upper limit for the Fibonacci sequence.\n",
            "\n",
            "  Yields:\n",
            "    The next Fibonacci number in the sequence.\n",
            "  \"\"\"\n",
            "  a, b = 0, 1\n",
            "  for _ in range(n):\n",
            "    yield a\n",
            "    a, b = b, a + b\n",
            "\n",
            "# Example usage:\n",
            "for i in fibonacci_generator(10):\n",
            "    print(i)\n",
            "\n",
            "```\n",
            "\n",
            "This approach is memory-efficient if you need to generate a very long sequence of Fibonacci numbers, as it doesn't store the entire sequence in memory at once.\n",
            "\n",
            "\n",
            "Choose the method that best suits your needs.  For most cases, the iterative approach (`fibonacci_iterative`) provides a good balance of simplicity and efficiency.  For extremely large `n`, the generator approach might be necessary to avoid memory issues.  The recursive approach is primarily for illustrative purposes to show the mathematical definition.\n",
            "\n",
            "--------------------------------------------------\n",
            "\n",
            "👤 You: exit\n",
            "\n",
            "🤖 Assistant: Goodbye! Happy coding! 👋\n"
          ]
        }
      ]
    },
    {
      "cell_type": "code",
      "source": [],
      "metadata": {
        "id": "_JpBeRAnwcbH"
      },
      "execution_count": null,
      "outputs": []
    }
  ]
}